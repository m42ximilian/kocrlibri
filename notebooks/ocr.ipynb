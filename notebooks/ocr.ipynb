{
 "cells": [
  {
   "cell_type": "code",
   "execution_count": 1,
   "metadata": {},
   "outputs": [],
   "source": [
    "from PIL import Image\n",
    "import pytesseract\n"
   ]
  },
  {
   "cell_type": "code",
   "execution_count": 3,
   "metadata": {},
   "outputs": [
    {
     "name": "stdout",
     "output_type": "stream",
     "text": [
      "Processed Screenshot 2024-03-09 at 15.18.37.png\n",
      "OCR processing complete.\n"
     ]
    }
   ],
   "source": [
    "import os\n",
    "from PIL import Image\n",
    "import pytesseract\n",
    "\n",
    "# Set the path to your Tesseract executable if it's not in your PATH\n",
    "pytesseract.pytesseract.tesseract_cmd = r'/Users/maximilianhild/miniconda3/envs/kocrlibri/bin/tesseract'\n",
    "\n",
    "# Directory containing the PNG files\n",
    "input_directory = \"/Users/maximilianhild/code/kocrlibri/images\"\n",
    "output_directory = \"/Users/maximilianhild/code/kocrlibri/ocr_out\"\n",
    "\n",
    "# Ensure output directory exists\n",
    "if not os.path.exists(output_directory):\n",
    "    os.makedirs(output_directory)\n",
    "\n",
    "# Iterate over all PNG files in the directory\n",
    "for filename in os.listdir(input_directory):\n",
    "    if filename.endswith(\"15.18.37.png\"):\n",
    "        # Construct full file path\n",
    "        input_path = os.path.join(input_directory, filename)\n",
    "        output_path = os.path.join(output_directory, f\"{os.path.splitext(filename)[0]}.txt\")\n",
    "\n",
    "        # Perform OCR\n",
    "        try:\n",
    "            image = Image.open(input_path)\n",
    "            text = pytesseract.image_to_string(image)\n",
    "\n",
    "            # Write the OCR output to a text file\n",
    "            with open(output_path, \"w\") as file:\n",
    "                file.write(text)\n",
    "            print(f\"Processed {filename}\")\n",
    "        except Exception as e:\n",
    "            print(f\"Error processing {filename}: {e}\")\n",
    "\n",
    "print(\"OCR processing complete.\")\n"
   ]
  },
  {
   "cell_type": "code",
   "execution_count": null,
   "metadata": {},
   "outputs": [],
   "source": [
    "\n",
    "# Ensure the path to Tesseract is correct if not automatically found\n",
    "# pytesseract.pytesseract.tesseract_cmd = r'<full_path_to_your_tesseract_executable>'\n",
    "\n",
    "text = pytesseract.image_to_string(Image.open('screenshot.png'))\n",
    "print(text)\n"
   ]
  }
 ],
 "metadata": {
  "kernelspec": {
   "display_name": "kocrlibri",
   "language": "python",
   "name": "python3"
  },
  "language_info": {
   "codemirror_mode": {
    "name": "ipython",
    "version": 3
   },
   "file_extension": ".py",
   "mimetype": "text/x-python",
   "name": "python",
   "nbconvert_exporter": "python",
   "pygments_lexer": "ipython3",
   "version": "3.12.2"
  }
 },
 "nbformat": 4,
 "nbformat_minor": 2
}
